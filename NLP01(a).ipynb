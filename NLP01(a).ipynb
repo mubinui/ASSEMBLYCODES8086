{
  "nbformat": 4,
  "nbformat_minor": 0,
  "metadata": {
    "colab": {
      "name": "NLP01(a).ipynb",
      "provenance": [],
      "collapsed_sections": [],
      "toc_visible": true,
      "authorship_tag": "ABX9TyPzOtztvNHuAH5GCWWLQEtm",
      "include_colab_link": true
    },
    "kernelspec": {
      "name": "python3",
      "display_name": "Python 3"
    },
    "language_info": {
      "name": "python"
    }
  },
  "cells": [
    {
      "cell_type": "markdown",
      "metadata": {
        "id": "view-in-github",
        "colab_type": "text"
      },
      "source": [
        "<a href=\"https://colab.research.google.com/github/mubinui/ASSEMBLYCODES8086/blob/main/NLP01(a).ipynb\" target=\"_parent\"><img src=\"https://colab.research.google.com/assets/colab-badge.svg\" alt=\"Open In Colab\"/></a>"
      ]
    },
    {
      "cell_type": "markdown",
      "source": [
        "<b>Prerequisites for the NLP</b> \n",
        "\n",
        "\n",
        "1.   Information Extracction\n",
        "2.   Rules and Heuristics \n",
        "\n",
        "\n",
        "\n"
      ],
      "metadata": {
        "id": "_QWPLlNMbc0p"
      }
    },
    {
      "cell_type": "markdown",
      "source": [
        "Converting word to numbers <br>\n",
        "<b>The techniques for converting words to numbers are</b> \n",
        "\n",
        "1.   Unique Numbers \n",
        "2.   One hot encoding \n",
        "3.   Word embeddings \n",
        "     1.  TF-IDF \n",
        "     2.  Word2Vec  \n",
        "\n",
        "\n",
        "\n",
        "\n"
      ],
      "metadata": {
        "id": "YiQlofR_em5u"
      }
    },
    {
      "cell_type": "markdown",
      "source": [
        "<b> The techniques to compute word embedding </b>\n",
        "\n",
        "\n",
        "1.   Using supervised Learning \n",
        "2.   Used self-supervised learning \n",
        "    1. Word2vec\n",
        "    2. Globe\n",
        "\n"
      ],
      "metadata": {
        "id": "O7cs1r9littv"
      }
    },
    {
      "cell_type": "markdown",
      "source": [
        "Supervised Learning for word embedding."
      ],
      "metadata": {
        "id": "b4oPALVuiUI4"
      }
    },
    {
      "cell_type": "code",
      "source": [
        "import numpy as np \n",
        "from tensorflow.keras.preprocessing.text import one_hot\n",
        "from tensorflow.keras.preprocessing.sequence import pad_sequences\n",
        "from tensorflow.keras.models import Sequential\n",
        "from tensorflow.keras.layers import Dense\n",
        "from tensorflow.keras.layers import Flatten\n",
        "from tensorflow.keras.layers import Embedding"
      ],
      "metadata": {
        "id": "FLUyxqGzel0B"
      },
      "execution_count": 22,
      "outputs": []
    },
    {
      "cell_type": "code",
      "source": [
        "reviews = [\n",
        "           'nice food',\n",
        "           'amazing resturant',\n",
        "           'too good',\n",
        "           'just loved it !',\n",
        "           'will go again',\n",
        "           'horrible food',\n",
        "           'never go there',\n",
        "           'poor service',\n",
        "           'poor quality',\n",
        "           'needs improvement'\n",
        "]\n",
        "\n",
        "sentiment = np.array([1,1,1,1,1,0,0,0,0,0])"
      ],
      "metadata": {
        "id": "9E52109FegXM"
      },
      "execution_count": 23,
      "outputs": []
    },
    {
      "cell_type": "code",
      "source": [
        "#Converting reviews one hot vector \n",
        "one_hot('amazing resturant',5000)"
      ],
      "metadata": {
        "colab": {
          "base_uri": "https://localhost:8080/"
        },
        "id": "T23IEgNXv8Pc",
        "outputId": "1ebd9a65-784e-4459-82e9-7c01bf1c34ce"
      },
      "execution_count": 3,
      "outputs": [
        {
          "output_type": "execute_result",
          "data": {
            "text/plain": [
              "[2162, 4012]"
            ]
          },
          "metadata": {},
          "execution_count": 3
        }
      ]
    },
    {
      "cell_type": "code",
      "source": [
        "vocab_size = 50\n",
        "encoded_reviews = [one_hot(i, vocab_size) for i in reviews]\n",
        "print(encoded_reviews)"
      ],
      "metadata": {
        "colab": {
          "base_uri": "https://localhost:8080/"
        },
        "id": "ZQ-ubBuGwXar",
        "outputId": "6bec9b4a-9344-40d3-beaf-33952bbbc3ab"
      },
      "execution_count": 24,
      "outputs": [
        {
          "output_type": "stream",
          "name": "stdout",
          "text": [
            "[[5, 18], [3, 12], [40, 38], [34, 26, 39], [42, 33, 19], [4, 18], [47, 33, 37], [1, 29], [1, 11], [10, 10]]\n"
          ]
        }
      ]
    },
    {
      "cell_type": "code",
      "source": [
        "max_length = 3\n",
        "padded_reviews = pad_sequences(encoded_reviews, maxlen=max_length, padding='post')\n",
        "print(padded_reviews)"
      ],
      "metadata": {
        "colab": {
          "base_uri": "https://localhost:8080/"
        },
        "id": "6HBwMPkQxN_p",
        "outputId": "c10ca7ea-d2b6-4e33-a5c5-bdd68c87a795"
      },
      "execution_count": 25,
      "outputs": [
        {
          "output_type": "stream",
          "name": "stdout",
          "text": [
            "[[ 5 18  0]\n",
            " [ 3 12  0]\n",
            " [40 38  0]\n",
            " [34 26 39]\n",
            " [42 33 19]\n",
            " [ 4 18  0]\n",
            " [47 33 37]\n",
            " [ 1 29  0]\n",
            " [ 1 11  0]\n",
            " [10 10  0]]\n"
          ]
        }
      ]
    },
    {
      "cell_type": "markdown",
      "source": [
        "Creating the model "
      ],
      "metadata": {
        "id": "t1co_NIYbZ1l"
      }
    },
    {
      "cell_type": "code",
      "source": [
        "embedded_vector_size = 4\n",
        "model = Sequential()\n",
        "#the first layer will be embedding layer\n",
        "model.add(Embedding(vocab_size,\n",
        "                    embedded_vector_size,\n",
        "                    input_length = max_length,\n",
        "                    name = \"embedding\"\n",
        "                    ))\n",
        "# for the later use we need to flaten the layer first \n",
        "model.add(Flatten())\n",
        "\n",
        "# For the next layer we need a neuron with a sigmoid activation function \n",
        "model.add(Dense(1, activation='sigmoid'))"
      ],
      "metadata": {
        "id": "SSx9DaiYa1Bu"
      },
      "execution_count": 31,
      "outputs": []
    },
    {
      "cell_type": "code",
      "source": [
        "X = padded_reviews\n",
        "y = sentiment "
      ],
      "metadata": {
        "id": "1nyiP6hMcrKi"
      },
      "execution_count": 32,
      "outputs": []
    },
    {
      "cell_type": "code",
      "source": [
        "model.compile(optimizer='adam', loss='binary_crossentropy', metrics=['accuracy'])\n",
        "model.summary()"
      ],
      "metadata": {
        "colab": {
          "base_uri": "https://localhost:8080/"
        },
        "id": "-L7YNwdUc0ha",
        "outputId": "5d397db8-7aff-491b-9296-0b85da9c8744"
      },
      "execution_count": 33,
      "outputs": [
        {
          "output_type": "stream",
          "name": "stdout",
          "text": [
            "Model: \"sequential_3\"\n",
            "_________________________________________________________________\n",
            " Layer (type)                Output Shape              Param #   \n",
            "=================================================================\n",
            " embedding (Embedding)       (None, 3, 4)              200       \n",
            "                                                                 \n",
            " flatten_3 (Flatten)         (None, 12)                0         \n",
            "                                                                 \n",
            " dense_3 (Dense)             (None, 1)                 13        \n",
            "                                                                 \n",
            "=================================================================\n",
            "Total params: 213\n",
            "Trainable params: 213\n",
            "Non-trainable params: 0\n",
            "_________________________________________________________________\n"
          ]
        }
      ]
    },
    {
      "cell_type": "code",
      "source": [
        "model.fit(X, y, epochs=300, verbose=2)"
      ],
      "metadata": {
        "colab": {
          "base_uri": "https://localhost:8080/"
        },
        "id": "eBmgGFL9dZrJ",
        "outputId": "94e9f615-7bdf-4e02-d7dc-461a892abac3"
      },
      "execution_count": 34,
      "outputs": [
        {
          "output_type": "stream",
          "name": "stdout",
          "text": [
            "Epoch 1/300\n",
            "1/1 - 0s - loss: 0.6973 - accuracy: 0.4000 - 484ms/epoch - 484ms/step\n",
            "Epoch 2/300\n",
            "1/1 - 0s - loss: 0.6961 - accuracy: 0.5000 - 7ms/epoch - 7ms/step\n",
            "Epoch 3/300\n",
            "1/1 - 0s - loss: 0.6948 - accuracy: 0.5000 - 7ms/epoch - 7ms/step\n",
            "Epoch 4/300\n",
            "1/1 - 0s - loss: 0.6936 - accuracy: 0.5000 - 8ms/epoch - 8ms/step\n",
            "Epoch 5/300\n",
            "1/1 - 0s - loss: 0.6923 - accuracy: 0.6000 - 6ms/epoch - 6ms/step\n",
            "Epoch 6/300\n",
            "1/1 - 0s - loss: 0.6911 - accuracy: 0.6000 - 6ms/epoch - 6ms/step\n",
            "Epoch 7/300\n",
            "1/1 - 0s - loss: 0.6899 - accuracy: 0.6000 - 6ms/epoch - 6ms/step\n",
            "Epoch 8/300\n",
            "1/1 - 0s - loss: 0.6886 - accuracy: 0.6000 - 6ms/epoch - 6ms/step\n",
            "Epoch 9/300\n",
            "1/1 - 0s - loss: 0.6874 - accuracy: 0.7000 - 8ms/epoch - 8ms/step\n",
            "Epoch 10/300\n",
            "1/1 - 0s - loss: 0.6861 - accuracy: 0.8000 - 8ms/epoch - 8ms/step\n",
            "Epoch 11/300\n",
            "1/1 - 0s - loss: 0.6849 - accuracy: 0.8000 - 8ms/epoch - 8ms/step\n",
            "Epoch 12/300\n",
            "1/1 - 0s - loss: 0.6837 - accuracy: 0.8000 - 7ms/epoch - 7ms/step\n",
            "Epoch 13/300\n",
            "1/1 - 0s - loss: 0.6824 - accuracy: 0.8000 - 5ms/epoch - 5ms/step\n",
            "Epoch 14/300\n",
            "1/1 - 0s - loss: 0.6812 - accuracy: 0.8000 - 6ms/epoch - 6ms/step\n",
            "Epoch 15/300\n",
            "1/1 - 0s - loss: 0.6799 - accuracy: 0.9000 - 6ms/epoch - 6ms/step\n",
            "Epoch 16/300\n",
            "1/1 - 0s - loss: 0.6787 - accuracy: 0.9000 - 6ms/epoch - 6ms/step\n",
            "Epoch 17/300\n",
            "1/1 - 0s - loss: 0.6774 - accuracy: 0.9000 - 7ms/epoch - 7ms/step\n",
            "Epoch 18/300\n",
            "1/1 - 0s - loss: 0.6762 - accuracy: 0.9000 - 8ms/epoch - 8ms/step\n",
            "Epoch 19/300\n",
            "1/1 - 0s - loss: 0.6749 - accuracy: 0.9000 - 8ms/epoch - 8ms/step\n",
            "Epoch 20/300\n",
            "1/1 - 0s - loss: 0.6737 - accuracy: 0.9000 - 10ms/epoch - 10ms/step\n",
            "Epoch 21/300\n",
            "1/1 - 0s - loss: 0.6724 - accuracy: 0.9000 - 7ms/epoch - 7ms/step\n",
            "Epoch 22/300\n",
            "1/1 - 0s - loss: 0.6711 - accuracy: 0.9000 - 8ms/epoch - 8ms/step\n",
            "Epoch 23/300\n",
            "1/1 - 0s - loss: 0.6698 - accuracy: 0.9000 - 6ms/epoch - 6ms/step\n",
            "Epoch 24/300\n",
            "1/1 - 0s - loss: 0.6686 - accuracy: 0.9000 - 9ms/epoch - 9ms/step\n",
            "Epoch 25/300\n",
            "1/1 - 0s - loss: 0.6673 - accuracy: 0.9000 - 10ms/epoch - 10ms/step\n",
            "Epoch 26/300\n",
            "1/1 - 0s - loss: 0.6660 - accuracy: 0.9000 - 10ms/epoch - 10ms/step\n",
            "Epoch 27/300\n",
            "1/1 - 0s - loss: 0.6647 - accuracy: 1.0000 - 10ms/epoch - 10ms/step\n",
            "Epoch 28/300\n",
            "1/1 - 0s - loss: 0.6634 - accuracy: 1.0000 - 7ms/epoch - 7ms/step\n",
            "Epoch 29/300\n",
            "1/1 - 0s - loss: 0.6621 - accuracy: 1.0000 - 7ms/epoch - 7ms/step\n",
            "Epoch 30/300\n",
            "1/1 - 0s - loss: 0.6607 - accuracy: 1.0000 - 7ms/epoch - 7ms/step\n",
            "Epoch 31/300\n",
            "1/1 - 0s - loss: 0.6594 - accuracy: 1.0000 - 7ms/epoch - 7ms/step\n",
            "Epoch 32/300\n",
            "1/1 - 0s - loss: 0.6581 - accuracy: 1.0000 - 7ms/epoch - 7ms/step\n",
            "Epoch 33/300\n",
            "1/1 - 0s - loss: 0.6567 - accuracy: 1.0000 - 7ms/epoch - 7ms/step\n",
            "Epoch 34/300\n",
            "1/1 - 0s - loss: 0.6554 - accuracy: 1.0000 - 6ms/epoch - 6ms/step\n",
            "Epoch 35/300\n",
            "1/1 - 0s - loss: 0.6540 - accuracy: 1.0000 - 6ms/epoch - 6ms/step\n",
            "Epoch 36/300\n",
            "1/1 - 0s - loss: 0.6526 - accuracy: 1.0000 - 5ms/epoch - 5ms/step\n",
            "Epoch 37/300\n",
            "1/1 - 0s - loss: 0.6513 - accuracy: 1.0000 - 6ms/epoch - 6ms/step\n",
            "Epoch 38/300\n",
            "1/1 - 0s - loss: 0.6499 - accuracy: 1.0000 - 6ms/epoch - 6ms/step\n",
            "Epoch 39/300\n",
            "1/1 - 0s - loss: 0.6485 - accuracy: 1.0000 - 6ms/epoch - 6ms/step\n",
            "Epoch 40/300\n",
            "1/1 - 0s - loss: 0.6471 - accuracy: 1.0000 - 6ms/epoch - 6ms/step\n",
            "Epoch 41/300\n",
            "1/1 - 0s - loss: 0.6457 - accuracy: 1.0000 - 6ms/epoch - 6ms/step\n",
            "Epoch 42/300\n",
            "1/1 - 0s - loss: 0.6442 - accuracy: 1.0000 - 6ms/epoch - 6ms/step\n",
            "Epoch 43/300\n",
            "1/1 - 0s - loss: 0.6428 - accuracy: 1.0000 - 6ms/epoch - 6ms/step\n",
            "Epoch 44/300\n",
            "1/1 - 0s - loss: 0.6414 - accuracy: 1.0000 - 6ms/epoch - 6ms/step\n",
            "Epoch 45/300\n",
            "1/1 - 0s - loss: 0.6399 - accuracy: 1.0000 - 9ms/epoch - 9ms/step\n",
            "Epoch 46/300\n",
            "1/1 - 0s - loss: 0.6385 - accuracy: 1.0000 - 7ms/epoch - 7ms/step\n",
            "Epoch 47/300\n",
            "1/1 - 0s - loss: 0.6370 - accuracy: 1.0000 - 7ms/epoch - 7ms/step\n",
            "Epoch 48/300\n",
            "1/1 - 0s - loss: 0.6355 - accuracy: 1.0000 - 6ms/epoch - 6ms/step\n",
            "Epoch 49/300\n",
            "1/1 - 0s - loss: 0.6340 - accuracy: 1.0000 - 11ms/epoch - 11ms/step\n",
            "Epoch 50/300\n",
            "1/1 - 0s - loss: 0.6325 - accuracy: 1.0000 - 8ms/epoch - 8ms/step\n",
            "Epoch 51/300\n",
            "1/1 - 0s - loss: 0.6310 - accuracy: 1.0000 - 7ms/epoch - 7ms/step\n",
            "Epoch 52/300\n",
            "1/1 - 0s - loss: 0.6295 - accuracy: 1.0000 - 7ms/epoch - 7ms/step\n",
            "Epoch 53/300\n",
            "1/1 - 0s - loss: 0.6280 - accuracy: 1.0000 - 6ms/epoch - 6ms/step\n",
            "Epoch 54/300\n",
            "1/1 - 0s - loss: 0.6264 - accuracy: 1.0000 - 6ms/epoch - 6ms/step\n",
            "Epoch 55/300\n",
            "1/1 - 0s - loss: 0.6249 - accuracy: 1.0000 - 6ms/epoch - 6ms/step\n",
            "Epoch 56/300\n",
            "1/1 - 0s - loss: 0.6233 - accuracy: 1.0000 - 6ms/epoch - 6ms/step\n",
            "Epoch 57/300\n",
            "1/1 - 0s - loss: 0.6218 - accuracy: 1.0000 - 6ms/epoch - 6ms/step\n",
            "Epoch 58/300\n",
            "1/1 - 0s - loss: 0.6202 - accuracy: 1.0000 - 7ms/epoch - 7ms/step\n",
            "Epoch 59/300\n",
            "1/1 - 0s - loss: 0.6186 - accuracy: 1.0000 - 5ms/epoch - 5ms/step\n",
            "Epoch 60/300\n",
            "1/1 - 0s - loss: 0.6170 - accuracy: 1.0000 - 4ms/epoch - 4ms/step\n",
            "Epoch 61/300\n",
            "1/1 - 0s - loss: 0.6154 - accuracy: 1.0000 - 8ms/epoch - 8ms/step\n",
            "Epoch 62/300\n",
            "1/1 - 0s - loss: 0.6138 - accuracy: 1.0000 - 6ms/epoch - 6ms/step\n",
            "Epoch 63/300\n",
            "1/1 - 0s - loss: 0.6122 - accuracy: 1.0000 - 7ms/epoch - 7ms/step\n",
            "Epoch 64/300\n",
            "1/1 - 0s - loss: 0.6106 - accuracy: 1.0000 - 11ms/epoch - 11ms/step\n",
            "Epoch 65/300\n",
            "1/1 - 0s - loss: 0.6089 - accuracy: 1.0000 - 7ms/epoch - 7ms/step\n",
            "Epoch 66/300\n",
            "1/1 - 0s - loss: 0.6073 - accuracy: 1.0000 - 8ms/epoch - 8ms/step\n",
            "Epoch 67/300\n",
            "1/1 - 0s - loss: 0.6056 - accuracy: 1.0000 - 7ms/epoch - 7ms/step\n",
            "Epoch 68/300\n",
            "1/1 - 0s - loss: 0.6040 - accuracy: 1.0000 - 8ms/epoch - 8ms/step\n",
            "Epoch 69/300\n",
            "1/1 - 0s - loss: 0.6023 - accuracy: 1.0000 - 8ms/epoch - 8ms/step\n",
            "Epoch 70/300\n",
            "1/1 - 0s - loss: 0.6006 - accuracy: 1.0000 - 7ms/epoch - 7ms/step\n",
            "Epoch 71/300\n",
            "1/1 - 0s - loss: 0.5989 - accuracy: 1.0000 - 6ms/epoch - 6ms/step\n",
            "Epoch 72/300\n",
            "1/1 - 0s - loss: 0.5972 - accuracy: 1.0000 - 6ms/epoch - 6ms/step\n",
            "Epoch 73/300\n",
            "1/1 - 0s - loss: 0.5955 - accuracy: 1.0000 - 6ms/epoch - 6ms/step\n",
            "Epoch 74/300\n",
            "1/1 - 0s - loss: 0.5938 - accuracy: 1.0000 - 6ms/epoch - 6ms/step\n",
            "Epoch 75/300\n",
            "1/1 - 0s - loss: 0.5921 - accuracy: 1.0000 - 7ms/epoch - 7ms/step\n",
            "Epoch 76/300\n",
            "1/1 - 0s - loss: 0.5904 - accuracy: 1.0000 - 5ms/epoch - 5ms/step\n",
            "Epoch 77/300\n",
            "1/1 - 0s - loss: 0.5886 - accuracy: 1.0000 - 7ms/epoch - 7ms/step\n",
            "Epoch 78/300\n",
            "1/1 - 0s - loss: 0.5869 - accuracy: 1.0000 - 6ms/epoch - 6ms/step\n",
            "Epoch 79/300\n",
            "1/1 - 0s - loss: 0.5851 - accuracy: 1.0000 - 6ms/epoch - 6ms/step\n",
            "Epoch 80/300\n",
            "1/1 - 0s - loss: 0.5834 - accuracy: 1.0000 - 6ms/epoch - 6ms/step\n",
            "Epoch 81/300\n",
            "1/1 - 0s - loss: 0.5816 - accuracy: 1.0000 - 6ms/epoch - 6ms/step\n",
            "Epoch 82/300\n",
            "1/1 - 0s - loss: 0.5798 - accuracy: 1.0000 - 6ms/epoch - 6ms/step\n",
            "Epoch 83/300\n",
            "1/1 - 0s - loss: 0.5780 - accuracy: 1.0000 - 6ms/epoch - 6ms/step\n",
            "Epoch 84/300\n",
            "1/1 - 0s - loss: 0.5762 - accuracy: 1.0000 - 6ms/epoch - 6ms/step\n",
            "Epoch 85/300\n",
            "1/1 - 0s - loss: 0.5744 - accuracy: 1.0000 - 6ms/epoch - 6ms/step\n",
            "Epoch 86/300\n",
            "1/1 - 0s - loss: 0.5726 - accuracy: 1.0000 - 5ms/epoch - 5ms/step\n",
            "Epoch 87/300\n",
            "1/1 - 0s - loss: 0.5708 - accuracy: 1.0000 - 7ms/epoch - 7ms/step\n",
            "Epoch 88/300\n",
            "1/1 - 0s - loss: 0.5690 - accuracy: 1.0000 - 7ms/epoch - 7ms/step\n",
            "Epoch 89/300\n",
            "1/1 - 0s - loss: 0.5672 - accuracy: 1.0000 - 7ms/epoch - 7ms/step\n",
            "Epoch 90/300\n",
            "1/1 - 0s - loss: 0.5653 - accuracy: 1.0000 - 7ms/epoch - 7ms/step\n",
            "Epoch 91/300\n",
            "1/1 - 0s - loss: 0.5635 - accuracy: 1.0000 - 7ms/epoch - 7ms/step\n",
            "Epoch 92/300\n",
            "1/1 - 0s - loss: 0.5616 - accuracy: 1.0000 - 7ms/epoch - 7ms/step\n",
            "Epoch 93/300\n",
            "1/1 - 0s - loss: 0.5598 - accuracy: 1.0000 - 6ms/epoch - 6ms/step\n",
            "Epoch 94/300\n",
            "1/1 - 0s - loss: 0.5579 - accuracy: 1.0000 - 8ms/epoch - 8ms/step\n",
            "Epoch 95/300\n",
            "1/1 - 0s - loss: 0.5561 - accuracy: 1.0000 - 6ms/epoch - 6ms/step\n",
            "Epoch 96/300\n",
            "1/1 - 0s - loss: 0.5542 - accuracy: 1.0000 - 6ms/epoch - 6ms/step\n",
            "Epoch 97/300\n",
            "1/1 - 0s - loss: 0.5523 - accuracy: 1.0000 - 11ms/epoch - 11ms/step\n",
            "Epoch 98/300\n",
            "1/1 - 0s - loss: 0.5504 - accuracy: 1.0000 - 7ms/epoch - 7ms/step\n",
            "Epoch 99/300\n",
            "1/1 - 0s - loss: 0.5485 - accuracy: 1.0000 - 7ms/epoch - 7ms/step\n",
            "Epoch 100/300\n",
            "1/1 - 0s - loss: 0.5467 - accuracy: 1.0000 - 7ms/epoch - 7ms/step\n",
            "Epoch 101/300\n",
            "1/1 - 0s - loss: 0.5448 - accuracy: 1.0000 - 7ms/epoch - 7ms/step\n",
            "Epoch 102/300\n",
            "1/1 - 0s - loss: 0.5429 - accuracy: 1.0000 - 7ms/epoch - 7ms/step\n",
            "Epoch 103/300\n",
            "1/1 - 0s - loss: 0.5409 - accuracy: 1.0000 - 8ms/epoch - 8ms/step\n",
            "Epoch 104/300\n",
            "1/1 - 0s - loss: 0.5390 - accuracy: 1.0000 - 6ms/epoch - 6ms/step\n",
            "Epoch 105/300\n",
            "1/1 - 0s - loss: 0.5371 - accuracy: 1.0000 - 7ms/epoch - 7ms/step\n",
            "Epoch 106/300\n",
            "1/1 - 0s - loss: 0.5352 - accuracy: 1.0000 - 5ms/epoch - 5ms/step\n",
            "Epoch 107/300\n",
            "1/1 - 0s - loss: 0.5333 - accuracy: 1.0000 - 10ms/epoch - 10ms/step\n",
            "Epoch 108/300\n",
            "1/1 - 0s - loss: 0.5313 - accuracy: 1.0000 - 6ms/epoch - 6ms/step\n",
            "Epoch 109/300\n",
            "1/1 - 0s - loss: 0.5294 - accuracy: 1.0000 - 6ms/epoch - 6ms/step\n",
            "Epoch 110/300\n",
            "1/1 - 0s - loss: 0.5275 - accuracy: 1.0000 - 7ms/epoch - 7ms/step\n",
            "Epoch 111/300\n",
            "1/1 - 0s - loss: 0.5255 - accuracy: 1.0000 - 10ms/epoch - 10ms/step\n",
            "Epoch 112/300\n",
            "1/1 - 0s - loss: 0.5236 - accuracy: 1.0000 - 5ms/epoch - 5ms/step\n",
            "Epoch 113/300\n",
            "1/1 - 0s - loss: 0.5216 - accuracy: 1.0000 - 6ms/epoch - 6ms/step\n",
            "Epoch 114/300\n",
            "1/1 - 0s - loss: 0.5197 - accuracy: 1.0000 - 7ms/epoch - 7ms/step\n",
            "Epoch 115/300\n",
            "1/1 - 0s - loss: 0.5177 - accuracy: 1.0000 - 5ms/epoch - 5ms/step\n",
            "Epoch 116/300\n",
            "1/1 - 0s - loss: 0.5158 - accuracy: 1.0000 - 7ms/epoch - 7ms/step\n",
            "Epoch 117/300\n",
            "1/1 - 0s - loss: 0.5138 - accuracy: 1.0000 - 8ms/epoch - 8ms/step\n",
            "Epoch 118/300\n",
            "1/1 - 0s - loss: 0.5118 - accuracy: 1.0000 - 9ms/epoch - 9ms/step\n",
            "Epoch 119/300\n",
            "1/1 - 0s - loss: 0.5099 - accuracy: 1.0000 - 9ms/epoch - 9ms/step\n",
            "Epoch 120/300\n",
            "1/1 - 0s - loss: 0.5079 - accuracy: 1.0000 - 8ms/epoch - 8ms/step\n",
            "Epoch 121/300\n",
            "1/1 - 0s - loss: 0.5059 - accuracy: 1.0000 - 9ms/epoch - 9ms/step\n",
            "Epoch 122/300\n",
            "1/1 - 0s - loss: 0.5039 - accuracy: 1.0000 - 7ms/epoch - 7ms/step\n",
            "Epoch 123/300\n",
            "1/1 - 0s - loss: 0.5020 - accuracy: 1.0000 - 7ms/epoch - 7ms/step\n",
            "Epoch 124/300\n",
            "1/1 - 0s - loss: 0.5000 - accuracy: 1.0000 - 6ms/epoch - 6ms/step\n",
            "Epoch 125/300\n",
            "1/1 - 0s - loss: 0.4980 - accuracy: 1.0000 - 9ms/epoch - 9ms/step\n",
            "Epoch 126/300\n",
            "1/1 - 0s - loss: 0.4960 - accuracy: 1.0000 - 7ms/epoch - 7ms/step\n",
            "Epoch 127/300\n",
            "1/1 - 0s - loss: 0.4940 - accuracy: 1.0000 - 6ms/epoch - 6ms/step\n",
            "Epoch 128/300\n",
            "1/1 - 0s - loss: 0.4920 - accuracy: 1.0000 - 6ms/epoch - 6ms/step\n",
            "Epoch 129/300\n",
            "1/1 - 0s - loss: 0.4901 - accuracy: 1.0000 - 9ms/epoch - 9ms/step\n",
            "Epoch 130/300\n",
            "1/1 - 0s - loss: 0.4881 - accuracy: 1.0000 - 7ms/epoch - 7ms/step\n",
            "Epoch 131/300\n",
            "1/1 - 0s - loss: 0.4861 - accuracy: 1.0000 - 7ms/epoch - 7ms/step\n",
            "Epoch 132/300\n",
            "1/1 - 0s - loss: 0.4841 - accuracy: 1.0000 - 7ms/epoch - 7ms/step\n",
            "Epoch 133/300\n",
            "1/1 - 0s - loss: 0.4821 - accuracy: 1.0000 - 6ms/epoch - 6ms/step\n",
            "Epoch 134/300\n",
            "1/1 - 0s - loss: 0.4801 - accuracy: 1.0000 - 7ms/epoch - 7ms/step\n",
            "Epoch 135/300\n",
            "1/1 - 0s - loss: 0.4781 - accuracy: 1.0000 - 6ms/epoch - 6ms/step\n",
            "Epoch 136/300\n",
            "1/1 - 0s - loss: 0.4761 - accuracy: 1.0000 - 8ms/epoch - 8ms/step\n",
            "Epoch 137/300\n",
            "1/1 - 0s - loss: 0.4741 - accuracy: 1.0000 - 7ms/epoch - 7ms/step\n",
            "Epoch 138/300\n",
            "1/1 - 0s - loss: 0.4721 - accuracy: 1.0000 - 6ms/epoch - 6ms/step\n",
            "Epoch 139/300\n",
            "1/1 - 0s - loss: 0.4701 - accuracy: 1.0000 - 7ms/epoch - 7ms/step\n",
            "Epoch 140/300\n",
            "1/1 - 0s - loss: 0.4681 - accuracy: 1.0000 - 7ms/epoch - 7ms/step\n",
            "Epoch 141/300\n",
            "1/1 - 0s - loss: 0.4662 - accuracy: 1.0000 - 7ms/epoch - 7ms/step\n",
            "Epoch 142/300\n",
            "1/1 - 0s - loss: 0.4642 - accuracy: 1.0000 - 7ms/epoch - 7ms/step\n",
            "Epoch 143/300\n",
            "1/1 - 0s - loss: 0.4622 - accuracy: 1.0000 - 6ms/epoch - 6ms/step\n",
            "Epoch 144/300\n",
            "1/1 - 0s - loss: 0.4602 - accuracy: 1.0000 - 6ms/epoch - 6ms/step\n",
            "Epoch 145/300\n",
            "1/1 - 0s - loss: 0.4582 - accuracy: 1.0000 - 6ms/epoch - 6ms/step\n",
            "Epoch 146/300\n",
            "1/1 - 0s - loss: 0.4562 - accuracy: 1.0000 - 7ms/epoch - 7ms/step\n",
            "Epoch 147/300\n",
            "1/1 - 0s - loss: 0.4542 - accuracy: 1.0000 - 9ms/epoch - 9ms/step\n",
            "Epoch 148/300\n",
            "1/1 - 0s - loss: 0.4522 - accuracy: 1.0000 - 6ms/epoch - 6ms/step\n",
            "Epoch 149/300\n",
            "1/1 - 0s - loss: 0.4502 - accuracy: 1.0000 - 7ms/epoch - 7ms/step\n",
            "Epoch 150/300\n",
            "1/1 - 0s - loss: 0.4483 - accuracy: 1.0000 - 6ms/epoch - 6ms/step\n",
            "Epoch 151/300\n",
            "1/1 - 0s - loss: 0.4463 - accuracy: 1.0000 - 8ms/epoch - 8ms/step\n",
            "Epoch 152/300\n",
            "1/1 - 0s - loss: 0.4443 - accuracy: 1.0000 - 7ms/epoch - 7ms/step\n",
            "Epoch 153/300\n",
            "1/1 - 0s - loss: 0.4423 - accuracy: 1.0000 - 8ms/epoch - 8ms/step\n",
            "Epoch 154/300\n",
            "1/1 - 0s - loss: 0.4403 - accuracy: 1.0000 - 7ms/epoch - 7ms/step\n",
            "Epoch 155/300\n",
            "1/1 - 0s - loss: 0.4384 - accuracy: 1.0000 - 6ms/epoch - 6ms/step\n",
            "Epoch 156/300\n",
            "1/1 - 0s - loss: 0.4364 - accuracy: 1.0000 - 6ms/epoch - 6ms/step\n",
            "Epoch 157/300\n",
            "1/1 - 0s - loss: 0.4344 - accuracy: 1.0000 - 8ms/epoch - 8ms/step\n",
            "Epoch 158/300\n",
            "1/1 - 0s - loss: 0.4325 - accuracy: 1.0000 - 11ms/epoch - 11ms/step\n",
            "Epoch 159/300\n",
            "1/1 - 0s - loss: 0.4305 - accuracy: 1.0000 - 6ms/epoch - 6ms/step\n",
            "Epoch 160/300\n",
            "1/1 - 0s - loss: 0.4285 - accuracy: 1.0000 - 6ms/epoch - 6ms/step\n",
            "Epoch 161/300\n",
            "1/1 - 0s - loss: 0.4266 - accuracy: 1.0000 - 6ms/epoch - 6ms/step\n",
            "Epoch 162/300\n",
            "1/1 - 0s - loss: 0.4246 - accuracy: 1.0000 - 10ms/epoch - 10ms/step\n",
            "Epoch 163/300\n",
            "1/1 - 0s - loss: 0.4227 - accuracy: 1.0000 - 9ms/epoch - 9ms/step\n",
            "Epoch 164/300\n",
            "1/1 - 0s - loss: 0.4207 - accuracy: 1.0000 - 9ms/epoch - 9ms/step\n",
            "Epoch 165/300\n",
            "1/1 - 0s - loss: 0.4188 - accuracy: 1.0000 - 7ms/epoch - 7ms/step\n",
            "Epoch 166/300\n",
            "1/1 - 0s - loss: 0.4168 - accuracy: 1.0000 - 7ms/epoch - 7ms/step\n",
            "Epoch 167/300\n",
            "1/1 - 0s - loss: 0.4149 - accuracy: 1.0000 - 5ms/epoch - 5ms/step\n",
            "Epoch 168/300\n",
            "1/1 - 0s - loss: 0.4129 - accuracy: 1.0000 - 6ms/epoch - 6ms/step\n",
            "Epoch 169/300\n",
            "1/1 - 0s - loss: 0.4110 - accuracy: 1.0000 - 6ms/epoch - 6ms/step\n",
            "Epoch 170/300\n",
            "1/1 - 0s - loss: 0.4091 - accuracy: 1.0000 - 6ms/epoch - 6ms/step\n",
            "Epoch 171/300\n",
            "1/1 - 0s - loss: 0.4072 - accuracy: 1.0000 - 6ms/epoch - 6ms/step\n",
            "Epoch 172/300\n",
            "1/1 - 0s - loss: 0.4052 - accuracy: 1.0000 - 6ms/epoch - 6ms/step\n",
            "Epoch 173/300\n",
            "1/1 - 0s - loss: 0.4033 - accuracy: 1.0000 - 6ms/epoch - 6ms/step\n",
            "Epoch 174/300\n",
            "1/1 - 0s - loss: 0.4014 - accuracy: 1.0000 - 6ms/epoch - 6ms/step\n",
            "Epoch 175/300\n",
            "1/1 - 0s - loss: 0.3995 - accuracy: 1.0000 - 6ms/epoch - 6ms/step\n",
            "Epoch 176/300\n",
            "1/1 - 0s - loss: 0.3976 - accuracy: 1.0000 - 9ms/epoch - 9ms/step\n",
            "Epoch 177/300\n",
            "1/1 - 0s - loss: 0.3957 - accuracy: 1.0000 - 9ms/epoch - 9ms/step\n",
            "Epoch 178/300\n",
            "1/1 - 0s - loss: 0.3938 - accuracy: 1.0000 - 8ms/epoch - 8ms/step\n",
            "Epoch 179/300\n",
            "1/1 - 0s - loss: 0.3919 - accuracy: 1.0000 - 6ms/epoch - 6ms/step\n",
            "Epoch 180/300\n",
            "1/1 - 0s - loss: 0.3900 - accuracy: 1.0000 - 6ms/epoch - 6ms/step\n",
            "Epoch 181/300\n",
            "1/1 - 0s - loss: 0.3881 - accuracy: 1.0000 - 5ms/epoch - 5ms/step\n",
            "Epoch 182/300\n",
            "1/1 - 0s - loss: 0.3862 - accuracy: 1.0000 - 5ms/epoch - 5ms/step\n",
            "Epoch 183/300\n",
            "1/1 - 0s - loss: 0.3844 - accuracy: 1.0000 - 6ms/epoch - 6ms/step\n",
            "Epoch 184/300\n",
            "1/1 - 0s - loss: 0.3825 - accuracy: 1.0000 - 5ms/epoch - 5ms/step\n",
            "Epoch 185/300\n",
            "1/1 - 0s - loss: 0.3806 - accuracy: 1.0000 - 6ms/epoch - 6ms/step\n",
            "Epoch 186/300\n",
            "1/1 - 0s - loss: 0.3788 - accuracy: 1.0000 - 5ms/epoch - 5ms/step\n",
            "Epoch 187/300\n",
            "1/1 - 0s - loss: 0.3769 - accuracy: 1.0000 - 6ms/epoch - 6ms/step\n",
            "Epoch 188/300\n",
            "1/1 - 0s - loss: 0.3751 - accuracy: 1.0000 - 5ms/epoch - 5ms/step\n",
            "Epoch 189/300\n",
            "1/1 - 0s - loss: 0.3732 - accuracy: 1.0000 - 6ms/epoch - 6ms/step\n",
            "Epoch 190/300\n",
            "1/1 - 0s - loss: 0.3714 - accuracy: 1.0000 - 6ms/epoch - 6ms/step\n",
            "Epoch 191/300\n",
            "1/1 - 0s - loss: 0.3695 - accuracy: 1.0000 - 6ms/epoch - 6ms/step\n",
            "Epoch 192/300\n",
            "1/1 - 0s - loss: 0.3677 - accuracy: 1.0000 - 6ms/epoch - 6ms/step\n",
            "Epoch 193/300\n",
            "1/1 - 0s - loss: 0.3659 - accuracy: 1.0000 - 6ms/epoch - 6ms/step\n",
            "Epoch 194/300\n",
            "1/1 - 0s - loss: 0.3641 - accuracy: 1.0000 - 6ms/epoch - 6ms/step\n",
            "Epoch 195/300\n",
            "1/1 - 0s - loss: 0.3623 - accuracy: 1.0000 - 6ms/epoch - 6ms/step\n",
            "Epoch 196/300\n",
            "1/1 - 0s - loss: 0.3605 - accuracy: 1.0000 - 5ms/epoch - 5ms/step\n",
            "Epoch 197/300\n",
            "1/1 - 0s - loss: 0.3586 - accuracy: 1.0000 - 5ms/epoch - 5ms/step\n",
            "Epoch 198/300\n",
            "1/1 - 0s - loss: 0.3569 - accuracy: 1.0000 - 6ms/epoch - 6ms/step\n",
            "Epoch 199/300\n",
            "1/1 - 0s - loss: 0.3551 - accuracy: 1.0000 - 5ms/epoch - 5ms/step\n",
            "Epoch 200/300\n",
            "1/1 - 0s - loss: 0.3533 - accuracy: 1.0000 - 5ms/epoch - 5ms/step\n",
            "Epoch 201/300\n",
            "1/1 - 0s - loss: 0.3515 - accuracy: 1.0000 - 5ms/epoch - 5ms/step\n",
            "Epoch 202/300\n",
            "1/1 - 0s - loss: 0.3497 - accuracy: 1.0000 - 6ms/epoch - 6ms/step\n",
            "Epoch 203/300\n",
            "1/1 - 0s - loss: 0.3480 - accuracy: 1.0000 - 5ms/epoch - 5ms/step\n",
            "Epoch 204/300\n",
            "1/1 - 0s - loss: 0.3462 - accuracy: 1.0000 - 5ms/epoch - 5ms/step\n",
            "Epoch 205/300\n",
            "1/1 - 0s - loss: 0.3445 - accuracy: 1.0000 - 6ms/epoch - 6ms/step\n",
            "Epoch 206/300\n",
            "1/1 - 0s - loss: 0.3427 - accuracy: 1.0000 - 6ms/epoch - 6ms/step\n",
            "Epoch 207/300\n",
            "1/1 - 0s - loss: 0.3410 - accuracy: 1.0000 - 6ms/epoch - 6ms/step\n",
            "Epoch 208/300\n",
            "1/1 - 0s - loss: 0.3392 - accuracy: 1.0000 - 7ms/epoch - 7ms/step\n",
            "Epoch 209/300\n",
            "1/1 - 0s - loss: 0.3375 - accuracy: 1.0000 - 6ms/epoch - 6ms/step\n",
            "Epoch 210/300\n",
            "1/1 - 0s - loss: 0.3358 - accuracy: 1.0000 - 6ms/epoch - 6ms/step\n",
            "Epoch 211/300\n",
            "1/1 - 0s - loss: 0.3341 - accuracy: 1.0000 - 6ms/epoch - 6ms/step\n",
            "Epoch 212/300\n",
            "1/1 - 0s - loss: 0.3324 - accuracy: 1.0000 - 6ms/epoch - 6ms/step\n",
            "Epoch 213/300\n",
            "1/1 - 0s - loss: 0.3307 - accuracy: 1.0000 - 6ms/epoch - 6ms/step\n",
            "Epoch 214/300\n",
            "1/1 - 0s - loss: 0.3290 - accuracy: 1.0000 - 8ms/epoch - 8ms/step\n",
            "Epoch 215/300\n",
            "1/1 - 0s - loss: 0.3273 - accuracy: 1.0000 - 8ms/epoch - 8ms/step\n",
            "Epoch 216/300\n",
            "1/1 - 0s - loss: 0.3256 - accuracy: 1.0000 - 5ms/epoch - 5ms/step\n",
            "Epoch 217/300\n",
            "1/1 - 0s - loss: 0.3239 - accuracy: 1.0000 - 11ms/epoch - 11ms/step\n",
            "Epoch 218/300\n",
            "1/1 - 0s - loss: 0.3222 - accuracy: 1.0000 - 6ms/epoch - 6ms/step\n",
            "Epoch 219/300\n",
            "1/1 - 0s - loss: 0.3206 - accuracy: 1.0000 - 6ms/epoch - 6ms/step\n",
            "Epoch 220/300\n",
            "1/1 - 0s - loss: 0.3189 - accuracy: 1.0000 - 6ms/epoch - 6ms/step\n",
            "Epoch 221/300\n",
            "1/1 - 0s - loss: 0.3173 - accuracy: 1.0000 - 5ms/epoch - 5ms/step\n",
            "Epoch 222/300\n",
            "1/1 - 0s - loss: 0.3156 - accuracy: 1.0000 - 5ms/epoch - 5ms/step\n",
            "Epoch 223/300\n",
            "1/1 - 0s - loss: 0.3140 - accuracy: 1.0000 - 5ms/epoch - 5ms/step\n",
            "Epoch 224/300\n",
            "1/1 - 0s - loss: 0.3124 - accuracy: 1.0000 - 5ms/epoch - 5ms/step\n",
            "Epoch 225/300\n",
            "1/1 - 0s - loss: 0.3107 - accuracy: 1.0000 - 5ms/epoch - 5ms/step\n",
            "Epoch 226/300\n",
            "1/1 - 0s - loss: 0.3091 - accuracy: 1.0000 - 5ms/epoch - 5ms/step\n",
            "Epoch 227/300\n",
            "1/1 - 0s - loss: 0.3075 - accuracy: 1.0000 - 5ms/epoch - 5ms/step\n",
            "Epoch 228/300\n",
            "1/1 - 0s - loss: 0.3059 - accuracy: 1.0000 - 5ms/epoch - 5ms/step\n",
            "Epoch 229/300\n",
            "1/1 - 0s - loss: 0.3043 - accuracy: 1.0000 - 10ms/epoch - 10ms/step\n",
            "Epoch 230/300\n",
            "1/1 - 0s - loss: 0.3027 - accuracy: 1.0000 - 6ms/epoch - 6ms/step\n",
            "Epoch 231/300\n",
            "1/1 - 0s - loss: 0.3012 - accuracy: 1.0000 - 7ms/epoch - 7ms/step\n",
            "Epoch 232/300\n",
            "1/1 - 0s - loss: 0.2996 - accuracy: 1.0000 - 7ms/epoch - 7ms/step\n",
            "Epoch 233/300\n",
            "1/1 - 0s - loss: 0.2980 - accuracy: 1.0000 - 7ms/epoch - 7ms/step\n",
            "Epoch 234/300\n",
            "1/1 - 0s - loss: 0.2965 - accuracy: 1.0000 - 7ms/epoch - 7ms/step\n",
            "Epoch 235/300\n",
            "1/1 - 0s - loss: 0.2949 - accuracy: 1.0000 - 7ms/epoch - 7ms/step\n",
            "Epoch 236/300\n",
            "1/1 - 0s - loss: 0.2934 - accuracy: 1.0000 - 7ms/epoch - 7ms/step\n",
            "Epoch 237/300\n",
            "1/1 - 0s - loss: 0.2918 - accuracy: 1.0000 - 7ms/epoch - 7ms/step\n",
            "Epoch 238/300\n",
            "1/1 - 0s - loss: 0.2903 - accuracy: 1.0000 - 7ms/epoch - 7ms/step\n",
            "Epoch 239/300\n",
            "1/1 - 0s - loss: 0.2888 - accuracy: 1.0000 - 7ms/epoch - 7ms/step\n",
            "Epoch 240/300\n",
            "1/1 - 0s - loss: 0.2872 - accuracy: 1.0000 - 7ms/epoch - 7ms/step\n",
            "Epoch 241/300\n",
            "1/1 - 0s - loss: 0.2857 - accuracy: 1.0000 - 8ms/epoch - 8ms/step\n",
            "Epoch 242/300\n",
            "1/1 - 0s - loss: 0.2842 - accuracy: 1.0000 - 7ms/epoch - 7ms/step\n",
            "Epoch 243/300\n",
            "1/1 - 0s - loss: 0.2827 - accuracy: 1.0000 - 7ms/epoch - 7ms/step\n",
            "Epoch 244/300\n",
            "1/1 - 0s - loss: 0.2812 - accuracy: 1.0000 - 7ms/epoch - 7ms/step\n",
            "Epoch 245/300\n",
            "1/1 - 0s - loss: 0.2797 - accuracy: 1.0000 - 12ms/epoch - 12ms/step\n",
            "Epoch 246/300\n",
            "1/1 - 0s - loss: 0.2783 - accuracy: 1.0000 - 6ms/epoch - 6ms/step\n",
            "Epoch 247/300\n",
            "1/1 - 0s - loss: 0.2768 - accuracy: 1.0000 - 6ms/epoch - 6ms/step\n",
            "Epoch 248/300\n",
            "1/1 - 0s - loss: 0.2753 - accuracy: 1.0000 - 6ms/epoch - 6ms/step\n",
            "Epoch 249/300\n",
            "1/1 - 0s - loss: 0.2739 - accuracy: 1.0000 - 7ms/epoch - 7ms/step\n",
            "Epoch 250/300\n",
            "1/1 - 0s - loss: 0.2724 - accuracy: 1.0000 - 5ms/epoch - 5ms/step\n",
            "Epoch 251/300\n",
            "1/1 - 0s - loss: 0.2710 - accuracy: 1.0000 - 5ms/epoch - 5ms/step\n",
            "Epoch 252/300\n",
            "1/1 - 0s - loss: 0.2696 - accuracy: 1.0000 - 5ms/epoch - 5ms/step\n",
            "Epoch 253/300\n",
            "1/1 - 0s - loss: 0.2681 - accuracy: 1.0000 - 6ms/epoch - 6ms/step\n",
            "Epoch 254/300\n",
            "1/1 - 0s - loss: 0.2667 - accuracy: 1.0000 - 7ms/epoch - 7ms/step\n",
            "Epoch 255/300\n",
            "1/1 - 0s - loss: 0.2653 - accuracy: 1.0000 - 7ms/epoch - 7ms/step\n",
            "Epoch 256/300\n",
            "1/1 - 0s - loss: 0.2639 - accuracy: 1.0000 - 8ms/epoch - 8ms/step\n",
            "Epoch 257/300\n",
            "1/1 - 0s - loss: 0.2625 - accuracy: 1.0000 - 7ms/epoch - 7ms/step\n",
            "Epoch 258/300\n",
            "1/1 - 0s - loss: 0.2611 - accuracy: 1.0000 - 8ms/epoch - 8ms/step\n",
            "Epoch 259/300\n",
            "1/1 - 0s - loss: 0.2597 - accuracy: 1.0000 - 6ms/epoch - 6ms/step\n",
            "Epoch 260/300\n",
            "1/1 - 0s - loss: 0.2583 - accuracy: 1.0000 - 6ms/epoch - 6ms/step\n",
            "Epoch 261/300\n",
            "1/1 - 0s - loss: 0.2570 - accuracy: 1.0000 - 5ms/epoch - 5ms/step\n",
            "Epoch 262/300\n",
            "1/1 - 0s - loss: 0.2556 - accuracy: 1.0000 - 6ms/epoch - 6ms/step\n",
            "Epoch 263/300\n",
            "1/1 - 0s - loss: 0.2543 - accuracy: 1.0000 - 6ms/epoch - 6ms/step\n",
            "Epoch 264/300\n",
            "1/1 - 0s - loss: 0.2529 - accuracy: 1.0000 - 5ms/epoch - 5ms/step\n",
            "Epoch 265/300\n",
            "1/1 - 0s - loss: 0.2516 - accuracy: 1.0000 - 6ms/epoch - 6ms/step\n",
            "Epoch 266/300\n",
            "1/1 - 0s - loss: 0.2502 - accuracy: 1.0000 - 6ms/epoch - 6ms/step\n",
            "Epoch 267/300\n",
            "1/1 - 0s - loss: 0.2489 - accuracy: 1.0000 - 5ms/epoch - 5ms/step\n",
            "Epoch 268/300\n",
            "1/1 - 0s - loss: 0.2476 - accuracy: 1.0000 - 7ms/epoch - 7ms/step\n",
            "Epoch 269/300\n",
            "1/1 - 0s - loss: 0.2463 - accuracy: 1.0000 - 6ms/epoch - 6ms/step\n",
            "Epoch 270/300\n",
            "1/1 - 0s - loss: 0.2450 - accuracy: 1.0000 - 6ms/epoch - 6ms/step\n",
            "Epoch 271/300\n",
            "1/1 - 0s - loss: 0.2437 - accuracy: 1.0000 - 6ms/epoch - 6ms/step\n",
            "Epoch 272/300\n",
            "1/1 - 0s - loss: 0.2424 - accuracy: 1.0000 - 6ms/epoch - 6ms/step\n",
            "Epoch 273/300\n",
            "1/1 - 0s - loss: 0.2411 - accuracy: 1.0000 - 5ms/epoch - 5ms/step\n",
            "Epoch 274/300\n",
            "1/1 - 0s - loss: 0.2398 - accuracy: 1.0000 - 6ms/epoch - 6ms/step\n",
            "Epoch 275/300\n",
            "1/1 - 0s - loss: 0.2385 - accuracy: 1.0000 - 8ms/epoch - 8ms/step\n",
            "Epoch 276/300\n",
            "1/1 - 0s - loss: 0.2372 - accuracy: 1.0000 - 8ms/epoch - 8ms/step\n",
            "Epoch 277/300\n",
            "1/1 - 0s - loss: 0.2360 - accuracy: 1.0000 - 8ms/epoch - 8ms/step\n",
            "Epoch 278/300\n",
            "1/1 - 0s - loss: 0.2347 - accuracy: 1.0000 - 5ms/epoch - 5ms/step\n",
            "Epoch 279/300\n",
            "1/1 - 0s - loss: 0.2335 - accuracy: 1.0000 - 8ms/epoch - 8ms/step\n",
            "Epoch 280/300\n",
            "1/1 - 0s - loss: 0.2322 - accuracy: 1.0000 - 5ms/epoch - 5ms/step\n",
            "Epoch 281/300\n",
            "1/1 - 0s - loss: 0.2310 - accuracy: 1.0000 - 7ms/epoch - 7ms/step\n",
            "Epoch 282/300\n",
            "1/1 - 0s - loss: 0.2298 - accuracy: 1.0000 - 5ms/epoch - 5ms/step\n",
            "Epoch 283/300\n",
            "1/1 - 0s - loss: 0.2286 - accuracy: 1.0000 - 7ms/epoch - 7ms/step\n",
            "Epoch 284/300\n",
            "1/1 - 0s - loss: 0.2274 - accuracy: 1.0000 - 6ms/epoch - 6ms/step\n",
            "Epoch 285/300\n",
            "1/1 - 0s - loss: 0.2262 - accuracy: 1.0000 - 6ms/epoch - 6ms/step\n",
            "Epoch 286/300\n",
            "1/1 - 0s - loss: 0.2250 - accuracy: 1.0000 - 6ms/epoch - 6ms/step\n",
            "Epoch 287/300\n",
            "1/1 - 0s - loss: 0.2238 - accuracy: 1.0000 - 6ms/epoch - 6ms/step\n",
            "Epoch 288/300\n",
            "1/1 - 0s - loss: 0.2226 - accuracy: 1.0000 - 6ms/epoch - 6ms/step\n",
            "Epoch 289/300\n",
            "1/1 - 0s - loss: 0.2214 - accuracy: 1.0000 - 6ms/epoch - 6ms/step\n",
            "Epoch 290/300\n",
            "1/1 - 0s - loss: 0.2202 - accuracy: 1.0000 - 7ms/epoch - 7ms/step\n",
            "Epoch 291/300\n",
            "1/1 - 0s - loss: 0.2191 - accuracy: 1.0000 - 7ms/epoch - 7ms/step\n",
            "Epoch 292/300\n",
            "1/1 - 0s - loss: 0.2179 - accuracy: 1.0000 - 8ms/epoch - 8ms/step\n",
            "Epoch 293/300\n",
            "1/1 - 0s - loss: 0.2167 - accuracy: 1.0000 - 8ms/epoch - 8ms/step\n",
            "Epoch 294/300\n",
            "1/1 - 0s - loss: 0.2156 - accuracy: 1.0000 - 7ms/epoch - 7ms/step\n",
            "Epoch 295/300\n",
            "1/1 - 0s - loss: 0.2144 - accuracy: 1.0000 - 7ms/epoch - 7ms/step\n",
            "Epoch 296/300\n",
            "1/1 - 0s - loss: 0.2133 - accuracy: 1.0000 - 6ms/epoch - 6ms/step\n",
            "Epoch 297/300\n",
            "1/1 - 0s - loss: 0.2122 - accuracy: 1.0000 - 8ms/epoch - 8ms/step\n",
            "Epoch 298/300\n",
            "1/1 - 0s - loss: 0.2111 - accuracy: 1.0000 - 6ms/epoch - 6ms/step\n",
            "Epoch 299/300\n",
            "1/1 - 0s - loss: 0.2099 - accuracy: 1.0000 - 5ms/epoch - 5ms/step\n",
            "Epoch 300/300\n",
            "1/1 - 0s - loss: 0.2088 - accuracy: 1.0000 - 5ms/epoch - 5ms/step\n"
          ]
        },
        {
          "output_type": "execute_result",
          "data": {
            "text/plain": [
              "<keras.callbacks.History at 0x7f54f9bc7450>"
            ]
          },
          "metadata": {},
          "execution_count": 34
        }
      ]
    },
    {
      "cell_type": "code",
      "source": [
        "loss, accuracy = model.evaluate(X, y)\n",
        "accuracy"
      ],
      "metadata": {
        "colab": {
          "base_uri": "https://localhost:8080/"
        },
        "id": "0UaZcJw2d7-o",
        "outputId": "120ea5e2-c3ee-4deb-88f3-95b675c52940"
      },
      "execution_count": 35,
      "outputs": [
        {
          "output_type": "stream",
          "name": "stdout",
          "text": [
            "1/1 [==============================] - 0s 118ms/step - loss: 0.2077 - accuracy: 1.0000\n"
          ]
        },
        {
          "output_type": "execute_result",
          "data": {
            "text/plain": [
              "1.0"
            ]
          },
          "metadata": {},
          "execution_count": 35
        }
      ]
    },
    {
      "cell_type": "code",
      "source": [
        "weights = model.get_layer('embedding').get_weights()[0]"
      ],
      "metadata": {
        "id": "FrkOsD-BeO3f"
      },
      "execution_count": 36,
      "outputs": []
    },
    {
      "cell_type": "code",
      "source": [
        "len(weights)"
      ],
      "metadata": {
        "colab": {
          "base_uri": "https://localhost:8080/"
        },
        "id": "Pcvj2meGeyV2",
        "outputId": "129fcbfb-f494-472e-9e3a-0edeb6ce646b"
      },
      "execution_count": 37,
      "outputs": [
        {
          "output_type": "execute_result",
          "data": {
            "text/plain": [
              "50"
            ]
          },
          "metadata": {},
          "execution_count": 37
        }
      ]
    },
    {
      "cell_type": "code",
      "source": [
        "weights[3]"
      ],
      "metadata": {
        "colab": {
          "base_uri": "https://localhost:8080/"
        },
        "id": "-vZJbN6Qe4XV",
        "outputId": "331b6f48-1025-4a32-bf5b-c7eeb6139b25"
      },
      "execution_count": 38,
      "outputs": [
        {
          "output_type": "execute_result",
          "data": {
            "text/plain": [
              "array([ 0.34924263,  0.32626715,  0.42113486, -0.29705042], dtype=float32)"
            ]
          },
          "metadata": {},
          "execution_count": 38
        }
      ]
    },
    {
      "cell_type": "code",
      "source": [
        "weights[5]"
      ],
      "metadata": {
        "colab": {
          "base_uri": "https://localhost:8080/"
        },
        "id": "UHtLSRcOgZ5r",
        "outputId": "0e91b1cf-0759-47f1-cf16-1811ada0bcd5"
      },
      "execution_count": 39,
      "outputs": [
        {
          "output_type": "execute_result",
          "data": {
            "text/plain": [
              "array([ 0.37122703,  0.355226  ,  0.40714738, -0.30786824], dtype=float32)"
            ]
          },
          "metadata": {},
          "execution_count": 39
        }
      ]
    }
  ]
}